{
 "cells": [
  {
   "cell_type": "code",
   "execution_count": 1,
   "metadata": {},
   "outputs": [],
   "source": [
    "import numpy as np"
   ]
  },
  {
   "cell_type": "code",
   "execution_count": 2,
   "metadata": {},
   "outputs": [],
   "source": [
    "#K - число индивидуумов\n",
    "#M - частота мутаций\n",
    "#change_time - вектор времени изменений размера популяций\n",
    "#change_pop - вектор размеров популяций в момент времени i"
   ]
  },
  {
   "cell_type": "code",
   "execution_count": 3,
   "metadata": {},
   "outputs": [],
   "source": [
    "def interval_number(t, change_time):\n",
    "    interval_i = -1\n",
    "    for i in range(len(change_time)-1):\n",
    "        if t>=change_time[i] and t<change_time[i+1]:\n",
    "            interval_i = i\n",
    "            break\n",
    "    if t>=change_time[-1]:\n",
    "        interval_i = len(change_time)-1\n",
    "    return interval_i"
   ]
  },
  {
   "cell_type": "code",
   "execution_count": 4,
   "metadata": {},
   "outputs": [],
   "source": [
    "def simulator(K, M, change_time, change_pop):\n",
    "    children = list([] for i in range(K))\n",
    "    mutation = list([] for i in range(K))\n",
    "    mutation_cnt = 0\n",
    "    coalesce_cnt = 0\n",
    "    events = []\n",
    "    time = []\n",
    "    t1 = 0\n",
    "    KK = K\n",
    "    time.append(t1)\n",
    "\n",
    "    while K!=1:\n",
    "        interval_i = interval_number(t1, change_time)\n",
    "        v = change_pop[interval_i]\n",
    "        w = K*M + (1/v)*(K*(K-1)/(2))\n",
    "        event = np.random.binomial(1, K*M/w)\n",
    "        \n",
    "        #мутация\n",
    "        if event == 1:\n",
    "            mutation_cnt += 1\n",
    "            events.append(1)\n",
    "            indiv = np.random.randint(0, K)\n",
    "            p = np.random.random()\n",
    "            if len(children[indiv]) == 0:\n",
    "                mutation[indiv].append(round(p,3))\n",
    "            else:\n",
    "                for j in range(len(children[indiv])):\n",
    "                    mutation[children[indiv][j]].append(round(p,3))\n",
    "            \n",
    "        #коалесценция    \n",
    "        else:\n",
    "            coalesce_cnt += 1\n",
    "            events.append(0)\n",
    "            indiv1, indiv2 = np.random.choice(K, 2, replace=False)\n",
    "            indiv_min = min(indiv1, indiv2) \n",
    "            indiv_max = max(indiv1, indiv2)\n",
    "            \n",
    "            K -= 1\n",
    "            parents = list([] for i in range(K))\n",
    "            for i in range(K+1):\n",
    "                if (i<indiv_min) or (i>indiv_min and i<indiv_max):\n",
    "                    if len(children[i]) == 0:\n",
    "                        parents[i].append(i)\n",
    "                    else:\n",
    "                        for j in range(len(children[i])):\n",
    "                            parents[i].append(children[i][j])\n",
    "                elif (i == indiv_min):\n",
    "                    if len(children[i]) == 0:\n",
    "                        parents[i].append(i)\n",
    "                        parents[i].append(indiv_max)\n",
    "                    else:\n",
    "                        for j in range(len(children[i])):\n",
    "                            parents[i].append(children[i][j])\n",
    "                        for j in range(len(children[indiv_max])):\n",
    "                            parents[i].append(children[indiv_max][j])\n",
    "                elif (i>indiv_max):\n",
    "                    if len(children[i]) == 0:\n",
    "                        parents[i-1].append(i)\n",
    "                    else:\n",
    "                        for j in range(len(children[i])):\n",
    "                            parents[i-1].append(children[i][j])\n",
    "            children = parents\n",
    "        \n",
    "        t1 += np.random.exponential(1 / w)\n",
    "        time.append(t1)\n",
    "    print('Количество мутаций:', mutation_cnt)\n",
    "    print('Количество коалесценций:', coalesce_cnt)\n",
    "    print('Мутации:')\n",
    "    for i in range(KK):\n",
    "        if len(mutation[i]) != 0:\n",
    "            print('№ индивидуума',i)\n",
    "            print(mutation[i])\n",
    "    return t1"
   ]
  },
  {
   "cell_type": "code",
   "execution_count": 5,
   "metadata": {},
   "outputs": [
    {
     "name": "stdout",
     "output_type": "stream",
     "text": [
      "Количество мутаций: 1\n",
      "Количество коалесценций: 2\n",
      "Мутации:\n",
      "№ индивидуума 1\n",
      "[0.844]\n"
     ]
    }
   ],
   "source": [
    "np.random.seed(0)\n",
    "K = 3\n",
    "M = 2\n",
    "c = [0, 0.75, 0.90, 1.5]\n",
    "f = [2, 1, 1.5, 3]\n",
    "t3 = simulator(K,M,c, f)"
   ]
  },
  {
   "cell_type": "code",
   "execution_count": 6,
   "metadata": {},
   "outputs": [
    {
     "name": "stdout",
     "output_type": "stream",
     "text": [
      "Количество мутаций: 8\n",
      "Количество коалесценций: 2\n",
      "Мутации:\n",
      "№ индивидуума 0\n",
      "[0.216, 0.766, 0.455, 0.976]\n",
      "№ индивидуума 1\n",
      "[0.84, 0.284]\n",
      "№ индивидуума 2\n",
      "[0.019, 0.441]\n"
     ]
    }
   ],
   "source": [
    "np.random.seed(3)\n",
    "K = 3\n",
    "M = 2\n",
    "c = [0]\n",
    "f = [1]\n",
    "t3 = simulator(K,M,c, f)"
   ]
  },
  {
   "cell_type": "code",
   "execution_count": 7,
   "metadata": {},
   "outputs": [
    {
     "name": "stdout",
     "output_type": "stream",
     "text": [
      "Количество мутаций: 0\n",
      "Количество коалесценций: 2\n",
      "Мутации:\n"
     ]
    }
   ],
   "source": [
    "np.random.seed(3)\n",
    "K = 3\n",
    "M = 0\n",
    "c = [0, 0.4, 0.5, 0.9]\n",
    "f = [2, 1, 3, 1]\n",
    "t3 = simulator(K,M,c, f)"
   ]
  },
  {
   "cell_type": "code",
   "execution_count": 10,
   "metadata": {},
   "outputs": [],
   "source": [
    "#без print\n",
    "def simulator_for_e_and_d(K, M, change_time, change_pop):\n",
    "    children = list([] for i in range(K))\n",
    "    mutation = list([] for i in range(K))\n",
    "    mutation_cnt = 0\n",
    "    coalesce_cnt = 0\n",
    "    events = []\n",
    "    time = []\n",
    "    t1 = 0\n",
    "    KK = K\n",
    "    time.append(t1)\n",
    "\n",
    "    while K!=1:\n",
    "        interval_i = interval_number(t1, change_time)\n",
    "        v = change_pop[interval_i]\n",
    "        w = K*M + (1/v)*(K*(K-1)/(2))\n",
    "        event = np.random.binomial(1, K*M/w)\n",
    "        \n",
    "        #мутация\n",
    "        if event == 1:\n",
    "            mutation_cnt += 1\n",
    "            events.append(1)\n",
    "            indiv = np.random.randint(0, K)\n",
    "            p = np.random.random()\n",
    "            if len(children[indiv]) == 0:\n",
    "                mutation[indiv].append(round(p,3))\n",
    "            else:\n",
    "                for j in range(len(children[indiv])):\n",
    "                    mutation[children[indiv][j]].append(round(p,3))\n",
    "            \n",
    "        #коалесценция    \n",
    "        else:\n",
    "            coalesce_cnt += 1\n",
    "            events.append(0)\n",
    "            indiv1, indiv2 = np.random.choice(K, 2, replace=False)\n",
    "            indiv_min = min(indiv1, indiv2) \n",
    "            indiv_max = max(indiv1, indiv2)\n",
    "            \n",
    "            K -= 1\n",
    "            parents = list([] for i in range(K))\n",
    "            for i in range(K+1):\n",
    "                if (i<indiv_min) or (i>indiv_min and i<indiv_max):\n",
    "                    if len(children[i]) == 0:\n",
    "                        parents[i].append(i)\n",
    "                    else:\n",
    "                        for j in range(len(children[i])):\n",
    "                            parents[i].append(children[i][j])\n",
    "                elif (i == indiv_min):\n",
    "                    if len(children[i]) == 0:\n",
    "                        parents[i].append(i)\n",
    "                        parents[i].append(indiv_max)\n",
    "                    else:\n",
    "                        for j in range(len(children[i])):\n",
    "                            parents[i].append(children[i][j])\n",
    "                        for j in range(len(children[indiv_max])):\n",
    "                            parents[i].append(children[indiv_max][j])\n",
    "                elif (i>indiv_max):\n",
    "                    if len(children[i]) == 0:\n",
    "                        parents[i-1].append(i)\n",
    "                    else:\n",
    "                        for j in range(len(children[i])):\n",
    "                            parents[i-1].append(children[i][j])\n",
    "            children = parents\n",
    "        \n",
    "        t1 += np.random.exponential(1 / w)\n",
    "        time.append(t1)\n",
    "    return t1"
   ]
  },
  {
   "cell_type": "code",
   "execution_count": 12,
   "metadata": {},
   "outputs": [
    {
     "name": "stdout",
     "output_type": "stream",
     "text": [
      "Математическое ожидание 2.457074743028323\n",
      "Дисперсия 1.920759340170498\n"
     ]
    }
   ],
   "source": [
    "#Математическое ожидание\n",
    "#Дисперсия\n",
    "np.random.seed(10)\n",
    "K = 3\n",
    "m = 0\n",
    "c = [0, 0.4, 0.5, 0.9]\n",
    "f = [2, 1, 3, 1]\n",
    "M = 1000 #количество хромосом\n",
    "\n",
    "T = np.zeros(M)\n",
    "for i in range(M):\n",
    "    T[i] = simulator_for_e_and_d(K,m,c, f)\n",
    "E = np.sum(T)/M\n",
    "D = np.sqrt(np.sum((T-E)**2)/(M-1))\n",
    "print('Математическое ожидание', E)\n",
    "print('Дисперсия', D)"
   ]
  }
 ],
 "metadata": {
  "kernelspec": {
   "display_name": "Python 3",
   "language": "python",
   "name": "python3"
  },
  "language_info": {
   "codemirror_mode": {
    "name": "ipython",
    "version": 3
   },
   "file_extension": ".py",
   "mimetype": "text/x-python",
   "name": "python",
   "nbconvert_exporter": "python",
   "pygments_lexer": "ipython3",
   "version": "3.7.3"
  }
 },
 "nbformat": 4,
 "nbformat_minor": 1
}
